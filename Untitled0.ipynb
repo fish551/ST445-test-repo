{
  "cells": [
    {
      "cell_type": "markdown",
      "metadata": {
        "id": "view-in-github",
        "colab_type": "text"
      },
      "source": [
        "<a href=\"https://colab.research.google.com/github/fish551/ST445-test-repo/blob/main/Untitled0.ipynb\" target=\"_parent\"><img src=\"https://colab.research.google.com/assets/colab-badge.svg\" alt=\"Open In Colab\"/></a>"
      ]
    },
    {
      "cell_type": "code",
      "execution_count": 1,
      "metadata": {
        "colab": {
          "base_uri": "https://localhost:8080/"
        },
        "id": "VykiY1DSsgfG",
        "outputId": "00368bc3-a359-466c-885e-4120fa7c9554"
      },
      "outputs": [
        {
          "output_type": "stream",
          "name": "stderr",
          "text": [
            "Installing package into ‘/usr/local/lib/R/site-library’\n",
            "(as ‘lib’ is unspecified)\n",
            "\n",
            "Installing package into ‘/usr/local/lib/R/site-library’\n",
            "(as ‘lib’ is unspecified)\n",
            "\n",
            "Installing package into ‘/usr/local/lib/R/site-library’\n",
            "(as ‘lib’ is unspecified)\n",
            "\n",
            "Installing package into ‘/usr/local/lib/R/site-library’\n",
            "(as ‘lib’ is unspecified)\n",
            "\n",
            "Installing package into ‘/usr/local/lib/R/site-library’\n",
            "(as ‘lib’ is unspecified)\n",
            "\n"
          ]
        }
      ],
      "source": [
        "install.packages(\"ggplot2\")\n",
        "install.packages(\"quanteda\")\n",
        "install.packages(\"stringr\")\n",
        "install.packages(\"word2vec\")\n",
        "install.packages(\"keras\")\n"
      ]
    },
    {
      "cell_type": "code",
      "source": [
        "install.packages(\"caret\")"
      ],
      "metadata": {
        "colab": {
          "base_uri": "https://localhost:8080/"
        },
        "id": "uPWl3-VIVEY0",
        "outputId": "5a90b0e4-807b-4012-cafe-63f284d67c79"
      },
      "execution_count": 19,
      "outputs": [
        {
          "output_type": "stream",
          "name": "stderr",
          "text": [
            "Installing package into ‘/usr/local/lib/R/site-library’\n",
            "(as ‘lib’ is unspecified)\n",
            "\n",
            "also installing the dependencies ‘listenv’, ‘parallelly’, ‘future’, ‘globals’, ‘future.apply’, ‘numDeriv’, ‘progressr’, ‘SQUAREM’, ‘diagram’, ‘lava’, ‘prodlim’, ‘proxy’, ‘clock’, ‘gower’, ‘hardhat’, ‘ipred’, ‘timeDate’, ‘e1071’, ‘ModelMetrics’, ‘plyr’, ‘pROC’, ‘recipes’, ‘reshape2’\n",
            "\n",
            "\n"
          ]
        }
      ]
    },
    {
      "cell_type": "code",
      "source": [
        "library(caret)"
      ],
      "metadata": {
        "colab": {
          "base_uri": "https://localhost:8080/"
        },
        "id": "ergV4cInVHoH",
        "outputId": "22a55263-f3af-4d2e-eda7-2b8a0c8f7fcd"
      },
      "execution_count": 20,
      "outputs": [
        {
          "output_type": "stream",
          "name": "stderr",
          "text": [
            "Loading required package: lattice\n",
            "\n"
          ]
        }
      ]
    },
    {
      "cell_type": "code",
      "execution_count": 2,
      "metadata": {
        "colab": {
          "base_uri": "https://localhost:8080/"
        },
        "id": "lkR0zWJP8tMR",
        "outputId": "68bc7bc3-bc7b-4429-9008-529821485909"
      },
      "outputs": [
        {
          "output_type": "stream",
          "name": "stderr",
          "text": [
            "Package version: 4.0.1\n",
            "Unicode version: 14.0\n",
            "ICU version: 70.1\n",
            "\n",
            "Parallel computing: 2 of 2 threads used.\n",
            "\n",
            "See https://quanteda.io for tutorials and examples.\n",
            "\n"
          ]
        }
      ],
      "source": [
        "library(ggplot2)\n",
        "library(quanteda)\n",
        "library(stringr)\n",
        "library(keras)"
      ]
    },
    {
      "cell_type": "code",
      "execution_count": 3,
      "metadata": {
        "id": "ie9UsxZP8MFB"
      },
      "outputs": [],
      "source": [
        "df1 <- read.csv('train_essays.csv')\n",
        "df2 <- read.csv('train_essays_ai.csv')\n",
        "\n",
        "df <- rbind(df1, df2)\n",
        "df <- df[order(df$prompt_id), ]\n",
        "df <- df[df$prompt_id == 0, ]\n",
        "df <- df[sample(nrow(df)), ]\n",
        "df <- df[, -c(1, 2)]"
      ]
    },
    {
      "cell_type": "code",
      "execution_count": 4,
      "metadata": {
        "id": "dGV494EG8Xlf"
      },
      "outputs": [],
      "source": [
        "corpusdf <- corpus(df$text)\n",
        "dftoks <- tokens(corpusdf, remove_punct = TRUE, remove_symbols = TRUE,\n",
        "                 remove_url=TRUE, remove_numbers=TRUE)\n",
        "dftoks <- tokens_remove(dftoks, stopwords(\"english\"))\n",
        "dftoks <- tokens_wordstem(dftoks)\n",
        "dftoks <- tokens_ngrams(dftoks, n = 1:3)"
      ]
    },
    {
      "cell_type": "code",
      "execution_count": 5,
      "metadata": {
        "id": "z36iTHYiE-EN"
      },
      "outputs": [],
      "source": [
        "texts <- sapply(tokens_group(dftoks), paste, collapse = \" \")\n",
        "max_features <- 10000  # This is the number of words to consider from the vocabulary\n",
        "tokenizer <- text_tokenizer(num_words = max_features)\n",
        "tokenizer %>% fit_text_tokenizer(texts)\n",
        "\n",
        "# Convert texts to sequences\n",
        "sequences <- texts_to_sequences(tokenizer, texts)\n",
        "\n",
        "# Pad sequences to have the same length\n",
        "maxlen <- max(sapply(sequences, length))  # Maximum length of sequences\n",
        "padded_sequences <- pad_sequences(sequences, maxlen = maxlen)"
      ]
    },
    {
      "cell_type": "code",
      "execution_count": 6,
      "metadata": {
        "id": "qxryc16WFC-x"
      },
      "outputs": [],
      "source": [
        "set.seed(459)\n",
        "indices <- sample(1:nrow(padded_sequences), size = floor(0.8 * nrow(padded_sequences)))\n",
        "\n",
        "train_data <- padded_sequences[indices, ]\n",
        "test_data <- padded_sequences[-indices, ]\n",
        "\n",
        "# Assuming 'generated' is your binary label column in df\n",
        "train_labels <- df$generated[indices]\n",
        "test_labels <- df$generated[-indices]\n"
      ]
    },
    {
      "cell_type": "code",
      "execution_count": null,
      "metadata": {
        "colab": {
          "base_uri": "https://localhost:8080/",
          "height": 34
        },
        "id": "GTMLK442FcLs",
        "outputId": "0b1d2793-38ae-41e3-9c19-8efe40b00b7c"
      },
      "outputs": [
        {
          "data": {
            "text/html": [
              "6097480"
            ],
            "text/latex": "6097480",
            "text/markdown": "6097480",
            "text/plain": [
              "[1] 6097480"
            ]
          },
          "metadata": {},
          "output_type": "display_data"
        }
      ],
      "source": [
        "length(padded_sequences)\n"
      ]
    },
    {
      "cell_type": "code",
      "execution_count": 7,
      "metadata": {
        "id": "up-GK4re9qCT"
      },
      "outputs": [],
      "source": [
        "model <- keras_model_sequential() %>%\n",
        "  layer_embedding(input_dim = max_features, output_dim = 128, input_length = maxlen) %>%\n",
        "  bidirectional(layer_lstm(units = 64, return_sequences = TRUE)) %>%\n",
        "  layer_global_max_pooling_1d() %>%\n",
        "  layer_dense(units = 64, activation = \"relu\") %>%\n",
        "  layer_dropout(rate = 0.5) %>%\n",
        "  layer_dense(units = 1, activation = \"sigmoid\")\n",
        "\n",
        "model %>% compile(\n",
        "  optimizer = 'adam',\n",
        "  loss = 'binary_crossentropy',\n",
        "  metrics = c('accuracy')\n",
        ")\n"
      ]
    },
    {
      "cell_type": "code",
      "execution_count": 8,
      "metadata": {
        "colab": {
          "base_uri": "https://localhost:8080/",
          "height": 308
        },
        "id": "3rC51Mju-8f0",
        "outputId": "11ff76c2-49e5-4c7d-9364-540409614a5c"
      },
      "outputs": [
        {
          "output_type": "display_data",
          "data": {
            "text/plain": [
              "Model: \"sequential\"\n",
              "________________________________________________________________________________\n",
              " Layer (type)                       Output Shape                    Param #     \n",
              "================================================================================\n",
              " embedding (Embedding)              (None, 4294, 128)               1280000     \n",
              " bidirectional (Bidirectional)      (None, 4294, 128)               98816       \n",
              " global_max_pooling1d (GlobalMaxPo  (None, 128)                     0           \n",
              " oling1D)                                                                       \n",
              " dense_1 (Dense)                    (None, 64)                      8256        \n",
              " dropout (Dropout)                  (None, 64)                      0           \n",
              " dense (Dense)                      (None, 1)                       65          \n",
              "================================================================================\n",
              "Total params: 1387137 (5.29 MB)\n",
              "Trainable params: 1387137 (5.29 MB)\n",
              "Non-trainable params: 0 (0.00 Byte)\n",
              "________________________________________________________________________________"
            ]
          },
          "metadata": {}
        }
      ],
      "source": [
        "model"
      ]
    },
    {
      "cell_type": "code",
      "execution_count": null,
      "metadata": {
        "id": "51J_nR24_fDI"
      },
      "outputs": [],
      "source": [
        "train_label_rnn <- as.numeric(as.factor(train_label_rnn))\n",
        "train_label_rnn <- as.array(train_label_rnn)\n"
      ]
    },
    {
      "cell_type": "code",
      "execution_count": 9,
      "metadata": {
        "id": "2SzhsreIADRh"
      },
      "outputs": [],
      "source": [
        "history <- model %>% fit(\n",
        "  x = train_data, y = train_labels,\n",
        "  epochs = 10,\n",
        "  batch_size = 32,\n",
        "  validation_split = 0.2\n",
        ")\n"
      ]
    },
    {
      "cell_type": "code",
      "execution_count": 11,
      "metadata": {
        "colab": {
          "base_uri": "https://localhost:8080/"
        },
        "id": "45UVO1B1Afa5",
        "outputId": "b44e7b74-7406-4553-a5d2-6a5b20d0e051"
      },
      "outputs": [
        {
          "output_type": "stream",
          "name": "stdout",
          "text": [
            "[1] \"Test set loss: 0.0283288694918156\"\n",
            "[1] \"Test set accuracy: 0.992957770824432\"\n"
          ]
        }
      ],
      "source": [
        "# Evaluate the model on the test set\n",
        "evaluation <- model %>% evaluate(test_data, test_labels)\n",
        "\n",
        "test_loss <- evaluation[1]\n",
        "test_accuracy <- evaluation[2]\n",
        "\n",
        "# Print the test accuracy\n",
        "print(paste(\"Test set loss:\", test_loss))\n",
        "print(paste(\"Test set accuracy:\", test_accuracy))"
      ]
    },
    {
      "cell_type": "code",
      "source": [
        "# Generate predictions\n",
        "predictions <- model %>% predict(test_data)\n",
        "\n",
        "# Apply threshold to get binary class predictions\n",
        "predicted_classes <- ifelse(predictions > 0.5, 1, 0)\n",
        "\n",
        "conf_matrix <- table(Predicted = predicted_classes, Actual = test_labels)\n",
        "\n",
        "# Convert to data frame for ggplot\n",
        "conf_matrix_df <- as.data.frame(conf_matrix)\n",
        "names(conf_matrix_df) <- c(\"Predicted\", \"Actual\", \"Count\")\n",
        "\n",
        "# Plotting\n",
        "ggplot(data = conf_matrix_df, aes(x = Actual, y = Predicted, fill = Count)) +\n",
        "  geom_tile() +\n",
        "  geom_text(aes(label = Count), color = \"white\") +\n",
        "  labs(title = \"Confusion Matrix\", x = \"Actual Label\", y = \"Predicted Label\") +\n",
        "  theme_minimal() +\n",
        "  theme(axis.text.x = element_text(angle = 45, hjust = 1))\n"
      ],
      "metadata": {
        "colab": {
          "base_uri": "https://localhost:8080/",
          "height": 437
        },
        "id": "two2GOhOTHyV",
        "outputId": "d6c44eba-3b32-4913-a492-853a940f17ac"
      },
      "execution_count": 17,
      "outputs": [
        {
          "output_type": "display_data",
          "data": {
            "text/plain": [
              "plot without title"
            ],
            "image/png": "[encoded data removed]"
          },
          "metadata": {
            "image/png": {
              "width": 420,
              "height": 420
            }
          }
        }
      ]
    },
    {
      "cell_type": "code",
      "source": [
        "confusion_matrix_rnn <- confusionMatrix(as.factor(predicted_classes), as.factor(test_labels))\n",
        "confusion_matrix_rnn"
      ],
      "metadata": {
        "colab": {
          "base_uri": "https://localhost:8080/",
          "height": 508
        },
        "id": "EaA_4_FVU8Oo",
        "outputId": "7e236a87-fd45-423a-94f9-242f1f073f9c"
      },
      "execution_count": 24,
      "outputs": [
        {
          "output_type": "display_data",
          "data": {
            "text/plain": [
              "Confusion Matrix and Statistics\n",
              "\n",
              "          Reference\n",
              "Prediction   0   1\n",
              "         0 132   0\n",
              "         1   2 150\n",
              "                                          \n",
              "               Accuracy : 0.993           \n",
              "                 95% CI : (0.9748, 0.9991)\n",
              "    No Information Rate : 0.5282          \n",
              "    P-Value [Acc > NIR] : <2e-16          \n",
              "                                          \n",
              "                  Kappa : 0.9859          \n",
              "                                          \n",
              " Mcnemar's Test P-Value : 0.4795          \n",
              "                                          \n",
              "            Sensitivity : 0.9851          \n",
              "            Specificity : 1.0000          \n",
              "         Pos Pred Value : 1.0000          \n",
              "         Neg Pred Value : 0.9868          \n",
              "             Prevalence : 0.4718          \n",
              "         Detection Rate : 0.4648          \n",
              "   Detection Prevalence : 0.4648          \n",
              "      Balanced Accuracy : 0.9925          \n",
              "                                          \n",
              "       'Positive' Class : 0               \n",
              "                                          "
            ]
          },
          "metadata": {}
        }
      ]
    },
    {
      "cell_type": "code",
      "source": [
        "plot(history)"
      ],
      "metadata": {
        "colab": {
          "base_uri": "https://localhost:8080/",
          "height": 437
        },
        "id": "D5MEiuihTUIC",
        "outputId": "541fa94a-bda7-4dcc-841d-1111db98670c"
      },
      "execution_count": 25,
      "outputs": [
        {
          "output_type": "display_data",
          "data": {
            "text/plain": [
              "plot without title"
            ],
            "image/png": "[encoded data removed]"
          },
          "metadata": {
            "image/png": {
              "width": 420,
              "height": 420
            }
          }
        }
      ]
    }
  ],
  "metadata": {
    "accelerator": "GPU",
    "colab": {
      "gpuType": "T4",
      "provenance": [],
      "authorship_tag": "ABX9TyOfOjZksoATjeOZ1sq9PdUH",
      "include_colab_link": true
    },
    "kernelspec": {
      "display_name": "R",
      "name": "ir"
    },
    "language_info": {
      "name": "R"
    }
  },
  "nbformat": 4,
  "nbformat_minor": 0
}